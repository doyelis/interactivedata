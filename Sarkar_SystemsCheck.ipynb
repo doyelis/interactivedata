{
 "cells": [
  {
   "cell_type": "markdown",
   "id": "a1c0a983",
   "metadata": {},
   "source": [
    "x=5\n"
   ]
  },
  {
   "cell_type": "code",
   "execution_count": 2,
   "id": "d60949ce",
   "metadata": {},
   "outputs": [
    {
     "name": "stdout",
     "output_type": "stream",
     "text": [
      "5\n"
     ]
    }
   ],
   "source": [
    "print (x)"
   ]
  },
  {
   "cell_type": "code",
   "execution_count": 5,
   "id": "aa33ebb6",
   "metadata": {},
   "outputs": [
    {
     "name": "stdout",
     "output_type": "stream",
     "text": [
      "1\n",
      "2\n",
      "3\n",
      "4\n",
      "5\n"
     ]
    }
   ],
   "source": [
    "for i in [1,2,3,4,5]:\n",
    "    print (i)"
   ]
  },
  {
   "cell_type": "code",
   "execution_count": 12,
   "id": "8e0838b6",
   "metadata": {},
   "outputs": [],
   "source": [
    "def say_hello(x):\n",
    "    print (\"Hello \"+ str (x))"
   ]
  },
  {
   "cell_type": "code",
   "execution_count": 13,
   "id": "025bb3f9",
   "metadata": {},
   "outputs": [
    {
     "name": "stdout",
     "output_type": "stream",
     "text": [
      "Hello Doyeli\n"
     ]
    }
   ],
   "source": [
    "say_hello (\"Doyeli\")"
   ]
  },
  {
   "cell_type": "code",
   "execution_count": 16,
   "id": "e19c77d0",
   "metadata": {},
   "outputs": [
    {
     "data": {
      "text/plain": [
       "'hello Doyeli'"
      ]
     },
     "execution_count": 16,
     "metadata": {},
     "output_type": "execute_result"
    }
   ],
   "source": [
    "def return_hello (x):\n",
    "    y=\"hello \"+x\n",
    "    return y\n",
    "greetings = return_hello(\"Doyeli\")\n",
    "\n",
    "greetings"
   ]
  },
  {
   "cell_type": "markdown",
   "id": "d82ce411",
   "metadata": {},
   "source": [
    "# My hopes to gain from this class \n",
    "\n",
    "* Learn the **Basics of Python** to the deepest level\n",
    "* Get comfortable using laptop at class for taking notes, I am still a paper and pen person\n",
    "* Understand the concepts, *learn to code* and use the tools very well, so that I can apply them later at work\n",
    "\n",
    "## When I add this skill in my resume, I want to mean it\n",
    "\n",
    "\n"
   ]
  },
  {
   "cell_type": "code",
   "execution_count": 24,
   "id": "fb716813",
   "metadata": {},
   "outputs": [
    {
     "name": "stdout",
     "output_type": "stream",
     "text": [
      "The history saving thread hit an unexpected error (OperationalError('database or disk is full')).History will not be written to the database.\n"
     ]
    },
    {
     "name": "stderr",
     "output_type": "stream",
     "text": [
      "'[alt]' is not recognized as an internal or external command,\n",
      "operable program or batch file.\n"
     ]
    }
   ],
   "source": [
    "![]()"
   ]
  },
  {
   "cell_type": "markdown",
   "id": "33cecf64",
   "metadata": {},
   "source": [
    "![](https://www.almanac.com/sites/default/files/styles/or/public/image_nodes/sunflower-1627193_1920.jpg?itok=td7mL8qA)"
   ]
  },
  {
   "cell_type": "code",
   "execution_count": null,
   "id": "fc8df29b",
   "metadata": {},
   "outputs": [],
   "source": []
  }
 ],
 "metadata": {
  "kernelspec": {
   "display_name": "Python 3 (ipykernel)",
   "language": "python",
   "name": "python3"
  },
  "language_info": {
   "codemirror_mode": {
    "name": "ipython",
    "version": 3
   },
   "file_extension": ".py",
   "mimetype": "text/x-python",
   "name": "python",
   "nbconvert_exporter": "python",
   "pygments_lexer": "ipython3",
   "version": "3.11.5"
  }
 },
 "nbformat": 4,
 "nbformat_minor": 5
}
