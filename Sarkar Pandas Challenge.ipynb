{
 "cells": [
  {
   "cell_type": "code",
   "execution_count": 7,
   "id": "b2e9e114-f3b0-4a5e-b840-1705eb201d23",
   "metadata": {},
   "outputs": [],
   "source": [
    "import pandas as pd"
   ]
  },
  {
   "cell_type": "code",
   "execution_count": 8,
   "id": "869eda22-0343-4518-a9b0-4265c5f2b25b",
   "metadata": {},
   "outputs": [
    {
     "data": {
      "text/plain": [
       "pandas.core.frame.DataFrame"
      ]
     },
     "execution_count": 8,
     "metadata": {},
     "output_type": "execute_result"
    }
   ],
   "source": [
    "pd.DataFrame"
   ]
  },
  {
   "cell_type": "code",
   "execution_count": 9,
   "id": "401696dd-8df7-471c-bd98-9c6e0f7c6979",
   "metadata": {
    "scrolled": true
   },
   "outputs": [],
   "source": [
    "candy_list= [{'orange':15, 'nut':21, 'chocolate':9}, {'orange':18, 'nut':6, 'chocolate':20}, {'orange':12, 'nut':10, 'chocolate':25}]\n"
   ]
  },
  {
   "cell_type": "code",
   "execution_count": 12,
   "id": "47a62065-9a3b-467c-9d9d-3cea4543007c",
   "metadata": {},
   "outputs": [],
   "source": [
    "stock_df= pd.DataFrame(candy_list)"
   ]
  },
  {
   "cell_type": "code",
   "execution_count": 13,
   "id": "8304047b-58e8-4159-942e-342985d33541",
   "metadata": {
    "scrolled": true
   },
   "outputs": [
    {
     "data": {
      "text/html": [
       "<div>\n",
       "<style scoped>\n",
       "    .dataframe tbody tr th:only-of-type {\n",
       "        vertical-align: middle;\n",
       "    }\n",
       "\n",
       "    .dataframe tbody tr th {\n",
       "        vertical-align: top;\n",
       "    }\n",
       "\n",
       "    .dataframe thead th {\n",
       "        text-align: right;\n",
       "    }\n",
       "</style>\n",
       "<table border=\"1\" class=\"dataframe\">\n",
       "  <thead>\n",
       "    <tr style=\"text-align: right;\">\n",
       "      <th></th>\n",
       "      <th>orange</th>\n",
       "      <th>nut</th>\n",
       "      <th>chocolate</th>\n",
       "    </tr>\n",
       "  </thead>\n",
       "  <tbody>\n",
       "    <tr>\n",
       "      <th>0</th>\n",
       "      <td>15</td>\n",
       "      <td>21</td>\n",
       "      <td>9</td>\n",
       "    </tr>\n",
       "    <tr>\n",
       "      <th>1</th>\n",
       "      <td>18</td>\n",
       "      <td>6</td>\n",
       "      <td>20</td>\n",
       "    </tr>\n",
       "    <tr>\n",
       "      <th>2</th>\n",
       "      <td>12</td>\n",
       "      <td>10</td>\n",
       "      <td>25</td>\n",
       "    </tr>\n",
       "  </tbody>\n",
       "</table>\n",
       "</div>"
      ],
      "text/plain": [
       "   orange  nut  chocolate\n",
       "0      15   21          9\n",
       "1      18    6         20\n",
       "2      12   10         25"
      ]
     },
     "execution_count": 13,
     "metadata": {},
     "output_type": "execute_result"
    }
   ],
   "source": [
    "stock_df"
   ]
  },
  {
   "cell_type": "code",
   "execution_count": 14,
   "id": "5a5e054b-8528-412b-9a61-047fa830f223",
   "metadata": {},
   "outputs": [
    {
     "data": {
      "text/html": [
       "<div>\n",
       "<style scoped>\n",
       "    .dataframe tbody tr th:only-of-type {\n",
       "        vertical-align: middle;\n",
       "    }\n",
       "\n",
       "    .dataframe tbody tr th {\n",
       "        vertical-align: top;\n",
       "    }\n",
       "\n",
       "    .dataframe thead th {\n",
       "        text-align: right;\n",
       "    }\n",
       "</style>\n",
       "<table border=\"1\" class=\"dataframe\">\n",
       "  <thead>\n",
       "    <tr style=\"text-align: right;\">\n",
       "      <th></th>\n",
       "      <th>orange</th>\n",
       "      <th>nut</th>\n",
       "      <th>chocolate</th>\n",
       "    </tr>\n",
       "  </thead>\n",
       "  <tbody>\n",
       "    <tr>\n",
       "      <th>0</th>\n",
       "      <td>15</td>\n",
       "      <td>21</td>\n",
       "      <td>9</td>\n",
       "    </tr>\n",
       "    <tr>\n",
       "      <th>1</th>\n",
       "      <td>18</td>\n",
       "      <td>6</td>\n",
       "      <td>20</td>\n",
       "    </tr>\n",
       "  </tbody>\n",
       "</table>\n",
       "</div>"
      ],
      "text/plain": [
       "   orange  nut  chocolate\n",
       "0      15   21          9\n",
       "1      18    6         20"
      ]
     },
     "execution_count": 14,
     "metadata": {},
     "output_type": "execute_result"
    }
   ],
   "source": [
    "stock_df.head(2)"
   ]
  },
  {
   "cell_type": "code",
   "execution_count": 15,
   "id": "8f5ed602-1b41-44af-97ab-2f9ba233e116",
   "metadata": {},
   "outputs": [
    {
     "data": {
      "text/html": [
       "<div>\n",
       "<style scoped>\n",
       "    .dataframe tbody tr th:only-of-type {\n",
       "        vertical-align: middle;\n",
       "    }\n",
       "\n",
       "    .dataframe tbody tr th {\n",
       "        vertical-align: top;\n",
       "    }\n",
       "\n",
       "    .dataframe thead th {\n",
       "        text-align: right;\n",
       "    }\n",
       "</style>\n",
       "<table border=\"1\" class=\"dataframe\">\n",
       "  <thead>\n",
       "    <tr style=\"text-align: right;\">\n",
       "      <th></th>\n",
       "      <th>orange</th>\n",
       "      <th>nut</th>\n",
       "      <th>chocolate</th>\n",
       "    </tr>\n",
       "  </thead>\n",
       "  <tbody>\n",
       "    <tr>\n",
       "      <th>2</th>\n",
       "      <td>12</td>\n",
       "      <td>10</td>\n",
       "      <td>25</td>\n",
       "    </tr>\n",
       "  </tbody>\n",
       "</table>\n",
       "</div>"
      ],
      "text/plain": [
       "   orange  nut  chocolate\n",
       "2      12   10         25"
      ]
     },
     "execution_count": 15,
     "metadata": {},
     "output_type": "execute_result"
    }
   ],
   "source": [
    "stock_df.tail(1)"
   ]
  },
  {
   "cell_type": "code",
   "execution_count": 16,
   "id": "d8f5a383-f44c-4a35-a2de-79a3f73b8c09",
   "metadata": {},
   "outputs": [
    {
     "data": {
      "text/plain": [
       "Index(['orange', 'nut', 'chocolate'], dtype='object')"
      ]
     },
     "execution_count": 16,
     "metadata": {},
     "output_type": "execute_result"
    }
   ],
   "source": [
    "stock_df.columns "
   ]
  },
  {
   "cell_type": "code",
   "execution_count": 21,
   "id": "1f08ceae-b28d-4a94-b17b-07ffac4c81ab",
   "metadata": {},
   "outputs": [
    {
     "data": {
      "text/plain": [
       "orange       15\n",
       "nut          21\n",
       "chocolate     9\n",
       "Name: 0, dtype: int64"
      ]
     },
     "execution_count": 21,
     "metadata": {},
     "output_type": "execute_result"
    }
   ],
   "source": [
    "stock_df.iloc[0]"
   ]
  },
  {
   "cell_type": "code",
   "execution_count": 26,
   "id": "cbbcef5d-4655-401e-ab69-2e2fdc131cd4",
   "metadata": {},
   "outputs": [
    {
     "data": {
      "text/plain": [
       "0    15\n",
       "1    18\n",
       "2    12\n",
       "Name: orange, dtype: int64"
      ]
     },
     "execution_count": 26,
     "metadata": {},
     "output_type": "execute_result"
    }
   ],
   "source": [
    "stock_df.loc[:,'orange']"
   ]
  },
  {
   "cell_type": "code",
   "execution_count": 25,
   "id": "7177c44b-fc3a-4fa7-9547-099f9d5092e6",
   "metadata": {},
   "outputs": [],
   "source": [
    "stock_df.to_csv('candy list.csv', index=False)"
   ]
  },
  {
   "cell_type": "markdown",
   "id": "20a8d33e-0d01-49dd-9a59-ece94f897bdd",
   "metadata": {},
   "source": [
    "[link](https://www.freecodecamp.org/news/dataframe-to-csv-how-to-save-pandas-dataframes-by-exporting/#:~:text=DataFrame(Biodata)%20%3A%20This%20creates,a%20CSV%20file%20named%20Biodata.)"
   ]
  },
  {
   "cell_type": "markdown",
   "id": "74b48d1d-332a-4b3f-acf7-a24b7f6b53ea",
   "metadata": {},
   "source": [
    "\n",
    "**Answer:** \n",
    "\n",
    "In my view and based on the premise of the focus chapter, I believe that dynamic and interactive data visualizations are effective in communicating data because : \n",
    "\n",
    "1. \"Humans are intensely visual creatures,\" indicating that visual representations are grasped more quickly than other forms of data representation. This efficiency saves time and resources when conveying information.\n",
    "\n",
    "2. It serves as a powerful tool for storytelling to a broader audience.\n",
    "\n",
    "3. I believe both human emotion and logic are involved in understanding any given dataset. The colors, patterns, and information provided in visuals sparks curiosity in the human mind and helps draw attention and engage the human mind effectively. \n",
    "\n",
    "4. The power of computation or using code to interpret and compress datasets into visual designs helps make the process more efficient and faster than manually mapping data by hand.\n",
    "\n",
    "5. Following the mantra of \"overview first, zoom and filter, then details-on-demand\", dynamic, interactive visualizations allows : \n",
    "* Freedom to play and explore data on their own terms.\n",
    "* Derive the information they need based on personal/customized requirements.\n",
    "* Meets the needs of a wide variety of users.\n",
    "\n",
    "6. Interactive data visualization promotes focused engagement with data, surpassing the limitations of static images. \n",
    "\n",
    "\n"
   ]
  },
  {
   "cell_type": "code",
   "execution_count": null,
   "id": "5c4eb066-d178-4069-9896-e94ac46ae838",
   "metadata": {},
   "outputs": [],
   "source": []
  }
 ],
 "metadata": {
  "kernelspec": {
   "display_name": "Python 3 (ipykernel)",
   "language": "python",
   "name": "python3"
  },
  "language_info": {
   "codemirror_mode": {
    "name": "ipython",
    "version": 3
   },
   "file_extension": ".py",
   "mimetype": "text/x-python",
   "name": "python",
   "nbconvert_exporter": "python",
   "pygments_lexer": "ipython3",
   "version": "3.12.1"
  }
 },
 "nbformat": 4,
 "nbformat_minor": 5
}
