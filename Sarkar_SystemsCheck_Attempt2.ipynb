{
 "cells": [
  {
   "cell_type": "code",
   "execution_count": 1,
   "id": "d20b827a-62e6-45c1-ad37-6d42efb437d0",
   "metadata": {},
   "outputs": [
    {
     "name": "stdout",
     "output_type": "stream",
     "text": [
      "5\n"
     ]
    }
   ],
   "source": [
    "x=5\n",
    "print (x)"
   ]
  },
  {
   "cell_type": "code",
   "execution_count": 2,
   "id": "3afe5d24-12c2-40ee-b401-a9f679b2016c",
   "metadata": {},
   "outputs": [
    {
     "name": "stdout",
     "output_type": "stream",
     "text": [
      "1\n",
      "2\n",
      "3\n",
      "4\n",
      "5\n"
     ]
    }
   ],
   "source": [
    "for i in [1,2,3,4,5]:\n",
    "    print (i)"
   ]
  },
  {
   "cell_type": "code",
   "execution_count": 3,
   "id": "e600037f-d65e-4645-b854-731e96e2c8e4",
   "metadata": {},
   "outputs": [],
   "source": [
    "def say_hello(x):\n",
    "    print (\"Hello \"+ str (x))"
   ]
  },
  {
   "cell_type": "code",
   "execution_count": 4,
   "id": "97e42283-df9c-4ff2-ab95-d35f2140da51",
   "metadata": {},
   "outputs": [
    {
     "name": "stdout",
     "output_type": "stream",
     "text": [
      "Hello Doyeli\n"
     ]
    }
   ],
   "source": [
    "say_hello (\"Doyeli\")"
   ]
  },
  {
   "cell_type": "code",
   "execution_count": 5,
   "id": "d85bb61a-4e67-40aa-8512-24af563e8ec4",
   "metadata": {},
   "outputs": [
    {
     "data": {
      "text/plain": [
       "'hello Doyeli'"
      ]
     },
     "execution_count": 5,
     "metadata": {},
     "output_type": "execute_result"
    }
   ],
   "source": [
    "def return_hello (x):\n",
    "    y=\"hello \"+x\n",
    "    return y\n",
    "greetings = return_hello(\"Doyeli\")\n",
    "\n",
    "greetings"
   ]
  },
  {
   "cell_type": "markdown",
   "id": "2eb7e78e-ffbf-4564-811c-373d9adfbdce",
   "metadata": {},
   "source": [
    "# Responses\n",
    "## From this class, I hope to\n",
    "\n",
    "1. Learn the *Basics of Python* to the deepest level\n",
    "2. Get comfortable using laptop at class for taking notes, I am still a paper and pen person\n",
    "3. **Understand the concepts, learn to code and use the tools very well**, so that I can apply them later at work\n",
    "4.  When I add this skill in my resume, I want to mean it"
   ]
  },
  {
   "cell_type": "markdown",
   "id": "4a279e65-26c1-4076-b6c2-771d499bbbc2",
   "metadata": {},
   "source": [
    "![Image](https://cdn11.bigcommerce.com/s-ydriczk/images/stencil/1920w/products/86433/85990/Simba_Lion_King_cardboard_cutout_Buy_Now_at_Starstills__36804__23761.1394515268.jpg?c=2)"
   ]
  },
  {
   "cell_type": "code",
   "execution_count": null,
   "id": "fdb9fb82-07f9-458d-9be8-62a949667838",
   "metadata": {},
   "outputs": [],
   "source": []
  }
 ],
 "metadata": {
  "kernelspec": {
   "display_name": "Python 3 (ipykernel)",
   "language": "python",
   "name": "python3"
  },
  "language_info": {
   "codemirror_mode": {
    "name": "ipython",
    "version": 3
   },
   "file_extension": ".py",
   "mimetype": "text/x-python",
   "name": "python",
   "nbconvert_exporter": "python",
   "pygments_lexer": "ipython3",
   "version": "3.12.1"
  }
 },
 "nbformat": 4,
 "nbformat_minor": 5
}
